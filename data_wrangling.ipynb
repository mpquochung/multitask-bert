{
 "cells": [
  {
   "cell_type": "code",
   "execution_count": null,
   "id": "12749cbb",
   "metadata": {},
   "outputs": [],
   "source": [
    "import pandas as pd\n",
    "\n",
    "# Read the two text files into lists\n",
    "with open(\"dataset/VSFC_benchmark/original_VSFC/sents_test.txt\", \"r\", encoding=\"utf-8\") as f:\n",
    "    sents = [line.strip() for line in f]\n",
    "\n",
    "with open(\"dataset/VSFC_benchmark/original_VSFC/sentiments_test.txt\", \"r\", encoding=\"utf-8\") as f:\n",
    "    sentiments = [line.strip() for line in f]\n",
    "\n",
    "# Make sure both files have the same number of lines\n",
    "if len(sents) != len(sentiments):\n",
    "    raise ValueError(f\"Line count mismatch: {len(sents)} vs {len(sentiments)}\")\n",
    "\n",
    "# Combine into a pandas DataFrame\n",
    "df = pd.DataFrame({\n",
    "    \"text\": sents,\n",
    "    \"sentiment\": sentiments\n",
    "})\n"
   ]
  },
  {
   "cell_type": "code",
   "execution_count": null,
   "id": "28a764d7",
   "metadata": {},
   "outputs": [],
   "source": [
    "df2 = pd.read_csv(\"dataset/test_set.csv\")\n",
    "df2['sentiment'] = df2['sentiment'].map({0.0: 1.0, 1.0: 2.0, 2.0: 0.0, 3.0: 0.0})\n",
    "df2['sentiment'] = df2['sentiment'].astype(str)\n",
    "df = pd.concat([df, df2], ignore_index=True)"
   ]
  },
  {
   "cell_type": "code",
   "execution_count": 24,
   "id": "ae68958d",
   "metadata": {},
   "outputs": [],
   "source": [
    "df.to_csv(\"dataset/VSFC_benchmark/original_VSFC/test.csv\", index=False, encoding=\"utf-8\")"
   ]
  },
  {
   "cell_type": "code",
   "execution_count": 26,
   "id": "89d5d8b2",
   "metadata": {},
   "outputs": [],
   "source": [
    "df = pd.read_csv(\"dataset/VSFC_benchmark/original_VSFC/test.csv\")\n",
    "df['classification'] = 0\n",
    "df.to_csv(\"dataset/VSFC_benchmark/original_VSFC/test.csv\", index=False, encoding=\"utf-8\")  "
   ]
  },
  {
   "cell_type": "code",
   "execution_count": 27,
   "id": "b5121ff8",
   "metadata": {},
   "outputs": [],
   "source": [
    "df2 = pd.read_csv(\"dataset/train_set.csv\")\n",
    "df2['sentiment'] = df2['sentiment'].map({0.0: 1.0, 1.0: 2.0, 2.0: 0.0, 3.0: 0.0})\n",
    "df2.to_csv(\"dataset/VSFC_benchmark/original_VSFC/train_neu.csv\", index=False, encoding=\"utf-8\")"
   ]
  },
  {
   "cell_type": "markdown",
   "id": "f7520717",
   "metadata": {},
   "source": [
    "VHSD"
   ]
  },
  {
   "cell_type": "code",
   "execution_count": null,
   "id": "7f0d61a9",
   "metadata": {},
   "outputs": [],
   "source": [
    "df = pd.read_csv(\"dataset/test_set.csv\")\n",
    "df['sentiment'] = df['sentiment'].map({0.0: 0.0, 1.0: 0.0, 2.0: 1.0, 3.0: 1.0})\n",
    "# Update sentiment to 2.0 where classification is 6 and sentiment was originally 2 or 3\n",
    "mask = (df['classification'] == 6) & (df['sentiment'] == 1.0)\n",
    "df.loc[mask, 'sentiment'] = 2.0\n"
   ]
  },
  {
   "cell_type": "code",
   "execution_count": 31,
   "id": "90a908cc",
   "metadata": {},
   "outputs": [],
   "source": [
    "df2 = pd.read_csv(r\"dataset\\vhsd_benchmark\\test.csv\")\n",
    "df2['classification'] = 0\n",
    "df = pd.concat([df, df2], ignore_index=True)\n",
    "df.to_csv(\"dataset/vhsd_benchmark/test_combined.csv\", index=False)"
   ]
  },
  {
   "cell_type": "code",
   "execution_count": 32,
   "id": "cc581f64",
   "metadata": {},
   "outputs": [],
   "source": [
    "df = pd.read_csv(r\"dataset\\vhsd_benchmark\\train.csv\")\n",
    "df['classification'] = 0\n",
    "df.to_csv(\"dataset/vhsd_benchmark/train.csv\", index=False)"
   ]
  },
  {
   "cell_type": "code",
   "execution_count": 33,
   "id": "b3a8ea9a",
   "metadata": {},
   "outputs": [],
   "source": [
    "df = pd.read_csv(\"dataset/train_set.csv\")\n",
    "df['sentiment'] = df['sentiment'].map({0.0: 0.0, 1.0: 0.0, 2.0: 1.0, 3.0: 1.0})\n",
    "# Update sentiment to 2.0 where classification is 6 and sentiment was originally 2 or 3\n",
    "mask = (df['classification'] == 6) & (df['sentiment'] == 1.0)\n",
    "df.loc[mask, 'sentiment'] = 2.0\n",
    "df.to_csv(\"dataset/vhsd_benchmark/train_neu.csv\", index=False)"
   ]
  },
  {
   "cell_type": "code",
   "execution_count": null,
   "id": "6e802274",
   "metadata": {},
   "outputs": [],
   "source": []
  }
 ],
 "metadata": {
  "kernelspec": {
   "display_name": "Python 3",
   "language": "python",
   "name": "python3"
  },
  "language_info": {
   "codemirror_mode": {
    "name": "ipython",
    "version": 3
   },
   "file_extension": ".py",
   "mimetype": "text/x-python",
   "name": "python",
   "nbconvert_exporter": "python",
   "pygments_lexer": "ipython3",
   "version": "3.10.16"
  }
 },
 "nbformat": 4,
 "nbformat_minor": 5
}
